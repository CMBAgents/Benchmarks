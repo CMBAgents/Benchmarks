{
 "cells": [
  {
   "cell_type": "code",
   "execution_count": 1,
   "id": "0e09fff7",
   "metadata": {},
   "outputs": [],
   "source": [
    "import sys\n",
    "sys.path.append(\"..\")"
   ]
  },
  {
   "cell_type": "code",
   "execution_count": 2,
   "id": "9ff7d6a9",
   "metadata": {},
   "outputs": [],
   "source": [
    "%load_ext autoreload\n",
    "%autoreload 2\n",
    "from benchmarks.evaluator.oneshot import Evaluator\n",
    "from benchmarks.prompts.camb import get_prompts"
   ]
  },
  {
   "cell_type": "code",
   "execution_count": 3,
   "id": "8f9f00b8",
   "metadata": {},
   "outputs": [],
   "source": [
    "df = get_prompts(reintial=False)"
   ]
  },
  {
   "cell_type": "code",
   "execution_count": 4,
   "id": "66915280",
   "metadata": {},
   "outputs": [],
   "source": [
    "#workdir = \"/Users/antoidicherianlonappan/Desktop/Eval\"\n",
    "workdir = \"/Users/antoidicherianlonappan/Workspace/cmbagent_output/evals\""
   ]
  },
  {
   "cell_type": "code",
   "execution_count": 5,
   "id": "9c7ca04b",
   "metadata": {},
   "outputs": [],
   "source": [
    "E = Evaluator(workdir,agent='engineer', model='gpt-4.1', trials=10)"
   ]
  },
  {
   "cell_type": "code",
   "execution_count": 6,
   "id": "50ebc8d0",
   "metadata": {},
   "outputs": [
    {
     "name": "stderr",
     "output_type": "stream",
     "text": [
      "creating reference answers for prompts: 100%|██████████| 14/14 [00:00<00:00, 20438.66it/s]\n"
     ]
    }
   ],
   "source": [
    "E(df)"
   ]
  },
  {
   "cell_type": "code",
   "execution_count": 7,
   "id": "daf538d9",
   "metadata": {},
   "outputs": [],
   "source": [
    "#results = E.run_all()"
   ]
  },
  {
   "cell_type": "code",
   "execution_count": 14,
   "id": "d2881e9f",
   "metadata": {},
   "outputs": [
    {
     "name": "stderr",
     "output_type": "stream",
     "text": [
      "<string>:9: FutureWarning: The 'special_case=True' option will be removed in a future version.\n"
     ]
    },
    {
     "data": {
      "text/plain": [
       "[np.float64(0.4),\n",
       " np.float64(0.5),\n",
       " np.float64(0.6),\n",
       " np.float64(0.1),\n",
       " np.float64(0.0),\n",
       " np.float64(0.0),\n",
       " np.float64(0.7),\n",
       " np.float64(0.3),\n",
       " np.float64(0.0),\n",
       " np.float64(0.3),\n",
       " np.float64(0.2),\n",
       " np.float64(0.0),\n",
       " np.float64(0.0),\n",
       " np.float64(0.0)]"
      ]
     },
     "execution_count": 14,
     "metadata": {},
     "output_type": "execute_result"
    }
   ],
   "source": [
    "E.success_all()"
   ]
  },
  {
   "cell_type": "code",
   "execution_count": null,
   "id": "ed0bc88c",
   "metadata": {},
   "outputs": [],
   "source": []
  }
 ],
 "metadata": {
  "kernelspec": {
   "display_name": "cmbagent_env",
   "language": "python",
   "name": "python3"
  },
  "language_info": {
   "codemirror_mode": {
    "name": "ipython",
    "version": 3
   },
   "file_extension": ".py",
   "mimetype": "text/x-python",
   "name": "python",
   "nbconvert_exporter": "python",
   "pygments_lexer": "ipython3",
   "version": "3.12.2"
  }
 },
 "nbformat": 4,
 "nbformat_minor": 5
}

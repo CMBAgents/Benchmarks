{
 "cells": [
  {
   "cell_type": "code",
   "execution_count": 1,
   "id": "9db4f5b1",
   "metadata": {},
   "outputs": [],
   "source": [
    "import sys\n",
    "import os\n",
    "sys.path.append(\"..\")\n"
   ]
  },
  {
   "cell_type": "code",
   "execution_count": 2,
   "id": "67a41f82",
   "metadata": {},
   "outputs": [
    {
     "name": "stderr",
     "output_type": "stream",
     "text": [
      "Downloading /Users/antoidicherianlonappan/Workspace/Benchmarks/examples/../benchmarks/../data/N0.csv: 100%|██████████| 205k/205k [00:00<00:00, 5.80MiB/s]\n"
     ]
    }
   ],
   "source": [
    "%load_ext autoreload\n",
    "%autoreload 2\n",
    "from benchmarks import DATA_DIR\n",
    "from benchmarks import camb_prompts"
   ]
  },
  {
   "cell_type": "code",
   "execution_count": 3,
   "id": "ec1666d6",
   "metadata": {},
   "outputs": [
    {
     "data": {
      "text/plain": [
       "'/Users/antoidicherianlonappan/Workspace/Benchmarks/examples/../benchmarks/../data'"
      ]
     },
     "execution_count": 3,
     "metadata": {},
     "output_type": "execute_result"
    }
   ],
   "source": [
    "DATA_DIR"
   ]
  },
  {
   "cell_type": "code",
   "execution_count": 4,
   "id": "d41687d2",
   "metadata": {},
   "outputs": [],
   "source": [
    "os.makedirs(DATA_DIR, exist_ok=True)"
   ]
  },
  {
   "cell_type": "code",
   "execution_count": 5,
   "id": "d1bdd7ab",
   "metadata": {},
   "outputs": [
    {
     "data": {
      "text/plain": [
       "'v1'"
      ]
     },
     "execution_count": 5,
     "metadata": {},
     "output_type": "execute_result"
    }
   ],
   "source": [
    "camb_prompts.__version__"
   ]
  },
  {
   "cell_type": "code",
   "execution_count": 6,
   "id": "cb46cdb2",
   "metadata": {},
   "outputs": [],
   "source": [
    "df = camb_prompts.get_prompts()"
   ]
  },
  {
   "cell_type": "code",
   "execution_count": 7,
   "id": "743fe65d",
   "metadata": {},
   "outputs": [
    {
     "name": "stdout",
     "output_type": "stream",
     "text": [
      "Calculate the delensing efficiency of the Cosmic Microwave Background (CMB) B-mode polarization power spectrum for a flat Lambda CDM cosmology using the following parameters with CAMB given the lensing noise power:\n",
      "    Hubble constant ($H_0$): 67.5 km/s/Mpc\n",
      "    Baryon density ($\\Omega_b h^2$): 0.022\n",
      "    Cold dark matter density ($\\Omega_c h^2$): 0.122\n",
      "    Neutrino mass sum ($\\Sigma m_\n",
      "u$): 0.06 eV\n",
      "    Curvature ($\\Omega_k$): 0\n",
      "    Optical depth to reionization ($\\tau$): 0.06\n",
      "    Scalar amplitude ($A_s$): $2 \\times 10^-9$\n",
      "    Scalar spectral index ($n_s$): 0.965\n",
      "\n",
      "    Load the lensing noise power spectrum ($N_0$) from the file '/Users/antoidicherianlonappan/Workspace/Benchmarks/examples/../benchmarks/../data/N0.csv' with columns l and Nl. Here $Nl = N_0 \\times (\\ell(\\ell+1))^2 / (2\\pi)$, and use values up to a maximum multipole $l=2000$. \n",
      "    Compute the following::\n",
      "    1. The lensed B-mode power spectrum ($C_\\ell^{BB}$) in units of $\\mu K^2$ for multipole moments up to $l=2000$.\n",
      "    2. The CMB lensing potential power spectrum ($C_\\ell^{\\phi\\phi} (\\ell(\\ell+1))^2 / (2\\pi) $) up to $l=2000$.\n",
      "    3. Change the lensing potential array and noise power spectrum to have the same length $l=2000$.\n",
      "    4. The residual lensing potential power spectrum, defined as cl_pp_res = cl_pp*(1 - (cl_pp/(cl_pp+n0))) or $C_\\ell^{\\phi\\phi} \\times (1 - (C_\\ell^{\\phi\\phi} / (C_\\ell^{\\phi\\phi} + N_0)))$ or like cl_pp_res = cl_pp*(1 - (cl_pp/(cl_pp+n0))).\n",
      "    5. Pad the the residual lensing potential array to have same length as in Params.max_l \n",
      "    6. The delensed B-mode power spectrum ($C_\\ell^{BB,\\textdelensed}$) using the residual lensing potential power spectrum.\n",
      "    7. The delensing efficiency as $100 \\times (C_\\ell^{BB,\\textlensed} - C_\\ell^{BB,\\textdelensed})/ C_\\ell^{BB,\\textlensed}.\n",
      "\n",
      "    Save the results in a CSV file named 'result.csv' with two columns:\n",
      "    l: Multipole moment (integer values from 2 to 100)\n",
      "    delensing_efficiency: Delensing efficiency (in percent, single value for $l=2$ to $l=100$) \n"
     ]
    }
   ],
   "source": [
    "print(df.prompt.iloc[13])"
   ]
  },
  {
   "cell_type": "code",
   "execution_count": null,
   "id": "e328011f",
   "metadata": {},
   "outputs": [],
   "source": []
  }
 ],
 "metadata": {
  "kernelspec": {
   "display_name": "cmbagent_env",
   "language": "python",
   "name": "python3"
  },
  "language_info": {
   "codemirror_mode": {
    "name": "ipython",
    "version": 3
   },
   "file_extension": ".py",
   "mimetype": "text/x-python",
   "name": "python",
   "nbconvert_exporter": "python",
   "pygments_lexer": "ipython3",
   "version": "3.12.2"
  }
 },
 "nbformat": 4,
 "nbformat_minor": 5
}

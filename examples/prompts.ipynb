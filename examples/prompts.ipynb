{
 "cells": [
  {
   "cell_type": "code",
   "execution_count": 1,
   "id": "9db4f5b1",
   "metadata": {},
   "outputs": [],
   "source": [
    "import sys\n",
    "import os\n",
    "sys.path.append(\"..\")"
   ]
  },
  {
   "cell_type": "code",
   "execution_count": 2,
   "id": "67a41f82",
   "metadata": {},
   "outputs": [],
   "source": [
    "%load_ext autoreload\n",
    "%autoreload 2\n",
    "from benchmarks import DATA_DIR\n",
    "from benchmarks.prompts import camb"
   ]
  },
  {
   "cell_type": "code",
   "execution_count": 3,
   "id": "ec1666d6",
   "metadata": {},
   "outputs": [
    {
     "data": {
      "text/plain": [
       "'/Users/antoidicherianlonappan/Workspace/Benchmarks/examples/../benchmarks/../data'"
      ]
     },
     "execution_count": 3,
     "metadata": {},
     "output_type": "execute_result"
    }
   ],
   "source": [
    "DATA_DIR"
   ]
  },
  {
   "cell_type": "code",
   "execution_count": 4,
   "id": "a307f67d",
   "metadata": {},
   "outputs": [
    {
     "data": {
      "text/plain": [
       "'v1'"
      ]
     },
     "execution_count": 4,
     "metadata": {},
     "output_type": "execute_result"
    }
   ],
   "source": [
    "camb.__version__"
   ]
  },
  {
   "cell_type": "code",
   "execution_count": 9,
   "id": "e328011f",
   "metadata": {},
   "outputs": [
    {
     "name": "stderr",
     "output_type": "stream",
     "text": [
      "prompt.camb : INFO - Loading prompts from file(v1):/Users/antoidicherianlonappan/Workspace/Benchmarks/examples/../benchmarks/../data/camb_prompts_v1.csv\n"
     ]
    }
   ],
   "source": [
    "df = camb.get_prompts()"
   ]
  },
  {
   "cell_type": "code",
   "execution_count": 6,
   "id": "c03c0bcd",
   "metadata": {},
   "outputs": [
    {
     "data": {
      "text/html": [
       "<div>\n",
       "<style scoped>\n",
       "    .dataframe tbody tr th:only-of-type {\n",
       "        vertical-align: middle;\n",
       "    }\n",
       "\n",
       "    .dataframe tbody tr th {\n",
       "        vertical-align: top;\n",
       "    }\n",
       "\n",
       "    .dataframe thead th {\n",
       "        text-align: right;\n",
       "    }\n",
       "</style>\n",
       "<table border=\"1\" class=\"dataframe\">\n",
       "  <thead>\n",
       "    <tr style=\"text-align: right;\">\n",
       "      <th></th>\n",
       "      <th>statement</th>\n",
       "      <th>prompt</th>\n",
       "      <th>reference_code</th>\n",
       "    </tr>\n",
       "  </thead>\n",
       "  <tbody>\n",
       "    <tr>\n",
       "      <th>0</th>\n",
       "      <td>Compute the CMB Temperature power spectrum for...</td>\n",
       "      <td>Calculate the Cosmic Microwave Background (CMB...</td>\n",
       "      <td>import camb\\n    import numpy as np\\n    def g...</td>\n",
       "    </tr>\n",
       "    <tr>\n",
       "      <th>1</th>\n",
       "      <td>Compute the CMB Temperature power spectrum for...</td>\n",
       "      <td>Calculate the Cosmic Microwave Background (CMB...</td>\n",
       "      <td>import camb\\n    import numpy as np\\n    def g...</td>\n",
       "    </tr>\n",
       "    <tr>\n",
       "      <th>2</th>\n",
       "      <td>Compute the CMB Temperature power spectrum for...</td>\n",
       "      <td>Calculate the raw Cosmic Microwave Background ...</td>\n",
       "      <td>import camb\\n    import numpy as np\\n    def g...</td>\n",
       "    </tr>\n",
       "    <tr>\n",
       "      <th>3</th>\n",
       "      <td>Compute the CMB Temperature power spectrum for...</td>\n",
       "      <td>Calculate the Cosmic Microwave Background (CMB...</td>\n",
       "      <td>import camb\\n    import numpy as np\\n    def g...</td>\n",
       "    </tr>\n",
       "    <tr>\n",
       "      <th>4</th>\n",
       "      <td>Compute the CMB E-mode power spectrum for Plan...</td>\n",
       "      <td>Calculate the Cosmic Microwave Background (CMB...</td>\n",
       "      <td>import camb\\n    import numpy as np\\n    def g...</td>\n",
       "    </tr>\n",
       "    <tr>\n",
       "      <th>5</th>\n",
       "      <td>Compute the total CMB B-mode power spectrum fo...</td>\n",
       "      <td>Calculate the Cosmic Microwave Background (CMB...</td>\n",
       "      <td>import camb\\n    import numpy as np\\n    def g...</td>\n",
       "    </tr>\n",
       "    <tr>\n",
       "      <th>6</th>\n",
       "      <td>Compute the total raw CMB B-mode power spectru...</td>\n",
       "      <td>Calculate the Cosmic Microwave Background (CMB...</td>\n",
       "      <td>import camb\\n    import numpy as np\\n    def g...</td>\n",
       "    </tr>\n",
       "    <tr>\n",
       "      <th>7</th>\n",
       "      <td>Compute the angular diameter distance for Plan...</td>\n",
       "      <td>Calculate the angular diameter distance ($d_A$...</td>\n",
       "      <td>import camb\\n    import numpy as np\\n    def g...</td>\n",
       "    </tr>\n",
       "    <tr>\n",
       "      <th>8</th>\n",
       "      <td>Compute the linear matter power spectrum with ...</td>\n",
       "      <td>Calculate the linear matter power spectrum ($P...</td>\n",
       "      <td>import camb\\n    import numpy as np\\n    def g...</td>\n",
       "    </tr>\n",
       "    <tr>\n",
       "      <th>9</th>\n",
       "      <td>Compute the delensed total raw CMB B-mode powe...</td>\n",
       "      <td>Calculate the raw delensed Cosmic Microwave Ba...</td>\n",
       "      <td>import camb\\n    import numpy as np\\n    def g...</td>\n",
       "    </tr>\n",
       "    <tr>\n",
       "      <th>10</th>\n",
       "      <td>Compute the delensed CMB Temperature power spe...</td>\n",
       "      <td>Calculate the delensed Cosmic Microwave Backgr...</td>\n",
       "      <td>import camb\\n    import numpy as np\\n    def g...</td>\n",
       "    </tr>\n",
       "    <tr>\n",
       "      <th>11</th>\n",
       "      <td>Compute the CMB E-mode power spectrum for Plan...</td>\n",
       "      <td>Calculate the Cosmic Microwave Background (CMB...</td>\n",
       "      <td>import camb\\n    import numpy as np\\n    def g...</td>\n",
       "    </tr>\n",
       "    <tr>\n",
       "      <th>12</th>\n",
       "      <td>Compute the relative difference in the linear ...</td>\n",
       "      <td>Calculate the relative difference in the linea...</td>\n",
       "      <td>import camb\\n    def pk_neutrino_comparison():...</td>\n",
       "    </tr>\n",
       "    <tr>\n",
       "      <th>13</th>\n",
       "      <td>Compute the delensing efficiency of the CMB B-...</td>\n",
       "      <td>Calculate the delensing efficiency of the Cosm...</td>\n",
       "      <td>import camb\\n    import numpy as np\\n    def d...</td>\n",
       "    </tr>\n",
       "  </tbody>\n",
       "</table>\n",
       "</div>"
      ],
      "text/plain": [
       "                                            statement  \\\n",
       "0   Compute the CMB Temperature power spectrum for...   \n",
       "1   Compute the CMB Temperature power spectrum for...   \n",
       "2   Compute the CMB Temperature power spectrum for...   \n",
       "3   Compute the CMB Temperature power spectrum for...   \n",
       "4   Compute the CMB E-mode power spectrum for Plan...   \n",
       "5   Compute the total CMB B-mode power spectrum fo...   \n",
       "6   Compute the total raw CMB B-mode power spectru...   \n",
       "7   Compute the angular diameter distance for Plan...   \n",
       "8   Compute the linear matter power spectrum with ...   \n",
       "9   Compute the delensed total raw CMB B-mode powe...   \n",
       "10  Compute the delensed CMB Temperature power spe...   \n",
       "11  Compute the CMB E-mode power spectrum for Plan...   \n",
       "12  Compute the relative difference in the linear ...   \n",
       "13  Compute the delensing efficiency of the CMB B-...   \n",
       "\n",
       "                                               prompt  \\\n",
       "0   Calculate the Cosmic Microwave Background (CMB...   \n",
       "1   Calculate the Cosmic Microwave Background (CMB...   \n",
       "2   Calculate the raw Cosmic Microwave Background ...   \n",
       "3   Calculate the Cosmic Microwave Background (CMB...   \n",
       "4   Calculate the Cosmic Microwave Background (CMB...   \n",
       "5   Calculate the Cosmic Microwave Background (CMB...   \n",
       "6   Calculate the Cosmic Microwave Background (CMB...   \n",
       "7   Calculate the angular diameter distance ($d_A$...   \n",
       "8   Calculate the linear matter power spectrum ($P...   \n",
       "9   Calculate the raw delensed Cosmic Microwave Ba...   \n",
       "10  Calculate the delensed Cosmic Microwave Backgr...   \n",
       "11  Calculate the Cosmic Microwave Background (CMB...   \n",
       "12  Calculate the relative difference in the linea...   \n",
       "13  Calculate the delensing efficiency of the Cosm...   \n",
       "\n",
       "                                       reference_code  \n",
       "0   import camb\\n    import numpy as np\\n    def g...  \n",
       "1   import camb\\n    import numpy as np\\n    def g...  \n",
       "2   import camb\\n    import numpy as np\\n    def g...  \n",
       "3   import camb\\n    import numpy as np\\n    def g...  \n",
       "4   import camb\\n    import numpy as np\\n    def g...  \n",
       "5   import camb\\n    import numpy as np\\n    def g...  \n",
       "6   import camb\\n    import numpy as np\\n    def g...  \n",
       "7   import camb\\n    import numpy as np\\n    def g...  \n",
       "8   import camb\\n    import numpy as np\\n    def g...  \n",
       "9   import camb\\n    import numpy as np\\n    def g...  \n",
       "10  import camb\\n    import numpy as np\\n    def g...  \n",
       "11  import camb\\n    import numpy as np\\n    def g...  \n",
       "12  import camb\\n    def pk_neutrino_comparison():...  \n",
       "13  import camb\\n    import numpy as np\\n    def d...  "
      ]
     },
     "execution_count": 6,
     "metadata": {},
     "output_type": "execute_result"
    }
   ],
   "source": [
    "df"
   ]
  },
  {
   "cell_type": "code",
   "execution_count": null,
   "id": "9cb447e4",
   "metadata": {},
   "outputs": [],
   "source": []
  }
 ],
 "metadata": {
  "kernelspec": {
   "display_name": "cmbagent_env",
   "language": "python",
   "name": "python3"
  },
  "language_info": {
   "codemirror_mode": {
    "name": "ipython",
    "version": 3
   },
   "file_extension": ".py",
   "mimetype": "text/x-python",
   "name": "python",
   "nbconvert_exporter": "python",
   "pygments_lexer": "ipython3",
   "version": "3.12.2"
  }
 },
 "nbformat": 4,
 "nbformat_minor": 5
}

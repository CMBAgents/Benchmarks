{
 "cells": [
  {
   "cell_type": "code",
   "execution_count": 1,
   "id": "0e09fff7",
   "metadata": {},
   "outputs": [],
   "source": [
    "import sys\n",
    "sys.path.append(\"..\")"
   ]
  },
  {
   "cell_type": "code",
   "execution_count": 2,
   "id": "9ff7d6a9",
   "metadata": {},
   "outputs": [],
   "source": [
    "%load_ext autoreload\n",
    "%autoreload 2\n",
    "from benchmarks.evaluator.oneshot import Evaluator\n",
    "from benchmarks.prompts.camb import get_prompts"
   ]
  },
  {
   "cell_type": "code",
   "execution_count": 3,
   "id": "8f9f00b8",
   "metadata": {},
   "outputs": [],
   "source": [
    "df = get_prompts(reintial=False)"
   ]
  },
  {
   "cell_type": "code",
   "execution_count": null,
   "id": "66915280",
   "metadata": {},
   "outputs": [],
   "source": [
    "workdir = \"/Users/antoidicherianlonappan/Desktop/Eval\""
   ]
  },
  {
   "cell_type": "code",
   "execution_count": 5,
   "id": "9c7ca04b",
   "metadata": {},
   "outputs": [],
   "source": [
    "E = Evaluator(workdir)"
   ]
  },
  {
   "cell_type": "code",
   "execution_count": 6,
   "id": "50ebc8d0",
   "metadata": {},
   "outputs": [
    {
     "name": "stderr",
     "output_type": "stream",
     "text": [
      "Evaluator : INFO - Dataframe contains (14) prompts\n",
      "Evaluator : INFO - Reference directory set to /Users/antoidicherianlonappan/Desktop/reference\n",
      "creating reference answers for prompts: 100%|██████████| 14/14 [00:00<00:00, 9486.31it/s]\n"
     ]
    }
   ],
   "source": [
    "E(df)"
   ]
  },
  {
   "cell_type": "code",
   "execution_count": null,
   "id": "daf538d9",
   "metadata": {},
   "outputs": [],
   "source": []
  }
 ],
 "metadata": {
  "kernelspec": {
   "display_name": "cmbagent_env",
   "language": "python",
   "name": "python3"
  },
  "language_info": {
   "codemirror_mode": {
    "name": "ipython",
    "version": 3
   },
   "file_extension": ".py",
   "mimetype": "text/x-python",
   "name": "python",
   "nbconvert_exporter": "python",
   "pygments_lexer": "ipython3",
   "version": "3.12.2"
  }
 },
 "nbformat": 4,
 "nbformat_minor": 5
}
